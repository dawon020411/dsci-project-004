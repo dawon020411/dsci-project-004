{
 "cells": [
  {
   "cell_type": "markdown",
   "id": "adce76f9-fae1-4141-9215-a1fbe02e265f",
   "metadata": {},
   "source": [
    "# The Title of The Final Report"
   ]
  },
  {
   "cell_type": "code",
   "execution_count": null,
   "id": "5ea0689d-90c3-4e5e-9e9f-8c7695c35ab4",
   "metadata": {},
   "outputs": [],
   "source": [
    "Dayna Yoon, Xudong Ma, Evelyn Pu, Shrey Chordia"
   ]
  }
 ],
 "metadata": {
  "kernelspec": {
   "display_name": "R",
   "language": "R",
   "name": "ir"
  },
  "language_info": {
   "codemirror_mode": "r",
   "file_extension": ".r",
   "mimetype": "text/x-r-source",
   "name": "R",
   "pygments_lexer": "r",
   "version": "4.3.1"
  }
 },
 "nbformat": 4,
 "nbformat_minor": 5
}
