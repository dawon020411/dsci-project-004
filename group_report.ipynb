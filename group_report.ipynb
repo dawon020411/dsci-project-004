{
 "cells": [
  {
   "cell_type": "markdown",
   "id": "adce76f9-fae1-4141-9215-a1fbe02e265f",
   "metadata": {},
   "source": [
    "# The Title of The Final Report"
   ]
  },
  {
   "cell_type": "markdown",
   "id": "1b9d675f-8460-450c-a7e3-94f6c76952fc",
   "metadata": {},
   "source": [
    "Dayna Yoon, Xudong Ma, Evelyn Pu, Shrey Chordia (Group 4)"
   ]
  },
  {
   "cell_type": "markdown",
   "id": "ef46951b-ac0b-4ae8-af78-288b34110a0f",
   "metadata": {},
   "source": [
    "## **Continue Studying:** ##"
   ]
  },
  {
   "cell_type": "markdown",
   "id": "bc495af9-63f6-484a-8522-665fd3e4974c",
   "metadata": {},
   "source": [
    "## 1. Splitting the Data"
   ]
  },
  {
   "cell_type": "code",
   "execution_count": 31,
   "id": "1da3dcb5-666b-4e57-b775-a94187084d3a",
   "metadata": {},
   "outputs": [],
   "source": [
    "heart_data_split <- initial_split(new_heart_data, prop = 0.75, strata = diagnosis)\n",
    "heart_data_training <- training(heart_data_split)\n",
    "heart_data_testing <- testing(heart_data_split)"
   ]
  },
  {
   "cell_type": "markdown",
   "id": "46331a31-7b46-49a5-bcc1-fe9121e79c27",
   "metadata": {},
   "source": [
    "## 2. Which $k$ should we use?"
   ]
  },
  {
   "cell_type": "code",
   "execution_count": null,
   "id": "562176a0-31bf-4171-bb11-b5152b902b85",
   "metadata": {},
   "outputs": [],
   "source": [
    "set.seed(9999) \n",
    "\n",
    "# options(repr.plot.height = 5, repr.plot.width = 6)\n",
    "\n",
    "# k_vals <- tibble(neighbors = seq(from = 2, to = 6))\n",
    "\n",
    "# recipe1 <- recipe(y ~ .,data = training_set)\n",
    "# dddd_vfold <- vfold_cv(training_set, v = 5, strata = y)\n",
    "# knn_spec<- nearest_neighbor(weight_func =\"rectangular\", neighbors = tune()) |>\n",
    "#       set_engine(\"kknn\") |>\n",
    "#       set_mode(\"classification\")\n",
    "# fit1<- workflow()|>\n",
    "# add_recipe(recipe1)|>\n",
    "# add_model(knn_spec)|>\n",
    "# tune_grid(resamples = dddd_vfold,grid = k_vals )|>\n",
    "# collect_metrics()\n",
    "\n",
    "# accuracies<- fit1 |>\n",
    "# filter(.metric == \"accuracy\")\n",
    "\n",
    "# cross_val_plot<-ggplot(accuracies,aes(x=neighbors , y= mean))+\n",
    "# geom_point()+\n",
    "# geom_line()+\n",
    "#  labs(x = \"Neighbors\", y = \"Accuracy Estimate\")\n",
    "\n",
    "# cross_val_plot\n",
    "\n",
    "knn_recipe<-recipe(diagnosis~age+cholesterol, data = heart_data_training) |>\n",
    "   step_scale(all_predictors()) |>\n",
    "   step_center(all_predictors())\n",
    "\n",
    "knn_model<-nearest_neighbor(weight_func = \"rectangular\",neighbors = tune())|>\n",
    "   set_engine(\"kknn\") |>\n",
    "   set_mode(\"classification\")\n",
    "\n",
    "knn_vfold <- vfold_cv(heart_data_training,v =10, strata=diagnosis)\n",
    "\n",
    "grid_vals<-tibble(neighbors=c(1:100))\n",
    "\n",
    "knn_results <- workflow()|>\n",
    "      add_recipe(knn_recipe)|>\n",
    "      add_model(knn_model)"
   ]
  }
 ],
 "metadata": {
  "kernelspec": {
   "display_name": "R",
   "language": "R",
   "name": "ir"
  },
  "language_info": {
   "codemirror_mode": "r",
   "file_extension": ".r",
   "mimetype": "text/x-r-source",
   "name": "R",
   "pygments_lexer": "r",
   "version": "4.3.1"
  }
 },
 "nbformat": 4,
 "nbformat_minor": 5
}
